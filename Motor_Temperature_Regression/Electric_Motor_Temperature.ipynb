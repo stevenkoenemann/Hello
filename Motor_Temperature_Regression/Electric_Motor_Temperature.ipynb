{
 "cells": [
  {
   "cell_type": "markdown",
   "metadata": {},
   "source": [
    "# Motor Temperature Predictions"
   ]
  },
  {
   "cell_type": "markdown",
   "metadata": {},
   "source": [
    "In this notebook I will construct a Neural Network that predicts the motor temperature of an electric using information from sensors in and around the engine. This data can be found on [kaggle](https://www.kaggle.com/wkirgsn/electric-motor-temperature)"
   ]
  },
  {
   "cell_type": "code",
   "execution_count": 1,
   "metadata": {},
   "outputs": [],
   "source": [
    "import os\n",
    "\n",
    "os.environ[\"KERAS_BACKEND\"] = \"plaidml.keras.backend\""
   ]
  },
  {
   "cell_type": "markdown",
   "metadata": {},
   "source": [
    "### Preprocessing"
   ]
  },
  {
   "cell_type": "code",
   "execution_count": 2,
   "metadata": {},
   "outputs": [
    {
     "data": {
      "text/plain": [
       "ambient           float64\n",
       "coolant           float64\n",
       "u_d               float64\n",
       "u_q               float64\n",
       "motor_speed       float64\n",
       "torque            float64\n",
       "i_d               float64\n",
       "i_q               float64\n",
       "pm                float64\n",
       "stator_yoke       float64\n",
       "stator_tooth      float64\n",
       "stator_winding    float64\n",
       "profile_id          int64\n",
       "dtype: object"
      ]
     },
     "execution_count": 2,
     "metadata": {},
     "output_type": "execute_result"
    }
   ],
   "source": [
    "# Import pandas and numpy to work with data\n",
    "import numpy as np\n",
    "import pandas as pd\n",
    "\n",
    "# Read data usign Pandas\n",
    "data = pd.read_csv('pmsm_temperature_data.csv')\n",
    "# Check data types\n",
    "data.dtypes"
   ]
  },
  {
   "cell_type": "code",
   "execution_count": 3,
   "metadata": {},
   "outputs": [
    {
     "data": {
      "text/html": [
       "<div>\n",
       "<style scoped>\n",
       "    .dataframe tbody tr th:only-of-type {\n",
       "        vertical-align: middle;\n",
       "    }\n",
       "\n",
       "    .dataframe tbody tr th {\n",
       "        vertical-align: top;\n",
       "    }\n",
       "\n",
       "    .dataframe thead th {\n",
       "        text-align: right;\n",
       "    }\n",
       "</style>\n",
       "<table border=\"1\" class=\"dataframe\">\n",
       "  <thead>\n",
       "    <tr style=\"text-align: right;\">\n",
       "      <th></th>\n",
       "      <th>ambient</th>\n",
       "      <th>coolant</th>\n",
       "      <th>u_d</th>\n",
       "      <th>u_q</th>\n",
       "      <th>motor_speed</th>\n",
       "      <th>torque</th>\n",
       "      <th>i_d</th>\n",
       "      <th>i_q</th>\n",
       "      <th>pm</th>\n",
       "      <th>stator_yoke</th>\n",
       "      <th>stator_tooth</th>\n",
       "      <th>stator_winding</th>\n",
       "      <th>profile_id</th>\n",
       "    </tr>\n",
       "  </thead>\n",
       "  <tbody>\n",
       "    <tr>\n",
       "      <th>ambient</th>\n",
       "      <td>1.000000</td>\n",
       "      <td>0.434435</td>\n",
       "      <td>0.194754</td>\n",
       "      <td>0.087430</td>\n",
       "      <td>0.078283</td>\n",
       "      <td>-0.262264</td>\n",
       "      <td>0.005605</td>\n",
       "      <td>-0.260562</td>\n",
       "      <td>0.501496</td>\n",
       "      <td>0.451616</td>\n",
       "      <td>0.396742</td>\n",
       "      <td>0.301883</td>\n",
       "      <td>0.384565</td>\n",
       "    </tr>\n",
       "    <tr>\n",
       "      <th>coolant</th>\n",
       "      <td>0.434435</td>\n",
       "      <td>1.000000</td>\n",
       "      <td>0.178708</td>\n",
       "      <td>0.027851</td>\n",
       "      <td>-0.033332</td>\n",
       "      <td>-0.189617</td>\n",
       "      <td>0.108489</td>\n",
       "      <td>-0.186060</td>\n",
       "      <td>0.430548</td>\n",
       "      <td>0.874037</td>\n",
       "      <td>0.689003</td>\n",
       "      <td>0.509298</td>\n",
       "      <td>0.499669</td>\n",
       "    </tr>\n",
       "    <tr>\n",
       "      <th>u_d</th>\n",
       "      <td>0.194754</td>\n",
       "      <td>0.178708</td>\n",
       "      <td>1.000000</td>\n",
       "      <td>-0.027472</td>\n",
       "      <td>-0.233828</td>\n",
       "      <td>-0.821325</td>\n",
       "      <td>0.358517</td>\n",
       "      <td>-0.796586</td>\n",
       "      <td>-0.082564</td>\n",
       "      <td>0.041428</td>\n",
       "      <td>-0.066256</td>\n",
       "      <td>-0.150714</td>\n",
       "      <td>0.300771</td>\n",
       "    </tr>\n",
       "    <tr>\n",
       "      <th>u_q</th>\n",
       "      <td>0.087430</td>\n",
       "      <td>0.027851</td>\n",
       "      <td>-0.027472</td>\n",
       "      <td>1.000000</td>\n",
       "      <td>0.716897</td>\n",
       "      <td>-0.037262</td>\n",
       "      <td>-0.181855</td>\n",
       "      <td>-0.026348</td>\n",
       "      <td>0.101236</td>\n",
       "      <td>0.106186</td>\n",
       "      <td>0.149017</td>\n",
       "      <td>0.125445</td>\n",
       "      <td>-0.122260</td>\n",
       "    </tr>\n",
       "    <tr>\n",
       "      <th>motor_speed</th>\n",
       "      <td>0.078283</td>\n",
       "      <td>-0.033332</td>\n",
       "      <td>-0.233828</td>\n",
       "      <td>0.716897</td>\n",
       "      <td>1.000000</td>\n",
       "      <td>0.024517</td>\n",
       "      <td>-0.722914</td>\n",
       "      <td>0.006323</td>\n",
       "      <td>0.332419</td>\n",
       "      <td>0.182564</td>\n",
       "      <td>0.333909</td>\n",
       "      <td>0.393154</td>\n",
       "      <td>-0.166225</td>\n",
       "    </tr>\n",
       "    <tr>\n",
       "      <th>torque</th>\n",
       "      <td>-0.262264</td>\n",
       "      <td>-0.189617</td>\n",
       "      <td>-0.821325</td>\n",
       "      <td>-0.037262</td>\n",
       "      <td>0.024517</td>\n",
       "      <td>1.000000</td>\n",
       "      <td>-0.239059</td>\n",
       "      <td>0.996560</td>\n",
       "      <td>-0.072905</td>\n",
       "      <td>-0.092207</td>\n",
       "      <td>-0.011055</td>\n",
       "      <td>0.080981</td>\n",
       "      <td>-0.257446</td>\n",
       "    </tr>\n",
       "    <tr>\n",
       "      <th>i_d</th>\n",
       "      <td>0.005605</td>\n",
       "      <td>0.108489</td>\n",
       "      <td>0.358517</td>\n",
       "      <td>-0.181855</td>\n",
       "      <td>-0.722914</td>\n",
       "      <td>-0.239059</td>\n",
       "      <td>1.000000</td>\n",
       "      <td>-0.204230</td>\n",
       "      <td>-0.299227</td>\n",
       "      <td>-0.179903</td>\n",
       "      <td>-0.387712</td>\n",
       "      <td>-0.539924</td>\n",
       "      <td>0.142368</td>\n",
       "    </tr>\n",
       "    <tr>\n",
       "      <th>i_q</th>\n",
       "      <td>-0.260562</td>\n",
       "      <td>-0.186060</td>\n",
       "      <td>-0.796586</td>\n",
       "      <td>-0.026348</td>\n",
       "      <td>0.006323</td>\n",
       "      <td>0.996560</td>\n",
       "      <td>-0.204230</td>\n",
       "      <td>1.000000</td>\n",
       "      <td>-0.086486</td>\n",
       "      <td>-0.098753</td>\n",
       "      <td>-0.025191</td>\n",
       "      <td>0.060949</td>\n",
       "      <td>-0.256127</td>\n",
       "    </tr>\n",
       "    <tr>\n",
       "      <th>pm</th>\n",
       "      <td>0.501496</td>\n",
       "      <td>0.430548</td>\n",
       "      <td>-0.082564</td>\n",
       "      <td>0.101236</td>\n",
       "      <td>0.332419</td>\n",
       "      <td>-0.072905</td>\n",
       "      <td>-0.299227</td>\n",
       "      <td>-0.086486</td>\n",
       "      <td>1.000000</td>\n",
       "      <td>0.695014</td>\n",
       "      <td>0.768352</td>\n",
       "      <td>0.729561</td>\n",
       "      <td>0.156735</td>\n",
       "    </tr>\n",
       "    <tr>\n",
       "      <th>stator_yoke</th>\n",
       "      <td>0.451616</td>\n",
       "      <td>0.874037</td>\n",
       "      <td>0.041428</td>\n",
       "      <td>0.106186</td>\n",
       "      <td>0.182564</td>\n",
       "      <td>-0.092207</td>\n",
       "      <td>-0.179903</td>\n",
       "      <td>-0.098753</td>\n",
       "      <td>0.695014</td>\n",
       "      <td>1.000000</td>\n",
       "      <td>0.949898</td>\n",
       "      <td>0.845144</td>\n",
       "      <td>0.398021</td>\n",
       "    </tr>\n",
       "    <tr>\n",
       "      <th>stator_tooth</th>\n",
       "      <td>0.396742</td>\n",
       "      <td>0.689003</td>\n",
       "      <td>-0.066256</td>\n",
       "      <td>0.149017</td>\n",
       "      <td>0.333909</td>\n",
       "      <td>-0.011055</td>\n",
       "      <td>-0.387712</td>\n",
       "      <td>-0.025191</td>\n",
       "      <td>0.768352</td>\n",
       "      <td>0.949898</td>\n",
       "      <td>1.000000</td>\n",
       "      <td>0.965633</td>\n",
       "      <td>0.280994</td>\n",
       "    </tr>\n",
       "    <tr>\n",
       "      <th>stator_winding</th>\n",
       "      <td>0.301883</td>\n",
       "      <td>0.509298</td>\n",
       "      <td>-0.150714</td>\n",
       "      <td>0.125445</td>\n",
       "      <td>0.393154</td>\n",
       "      <td>0.080981</td>\n",
       "      <td>-0.539924</td>\n",
       "      <td>0.060949</td>\n",
       "      <td>0.729561</td>\n",
       "      <td>0.845144</td>\n",
       "      <td>0.965633</td>\n",
       "      <td>1.000000</td>\n",
       "      <td>0.181908</td>\n",
       "    </tr>\n",
       "    <tr>\n",
       "      <th>profile_id</th>\n",
       "      <td>0.384565</td>\n",
       "      <td>0.499669</td>\n",
       "      <td>0.300771</td>\n",
       "      <td>-0.122260</td>\n",
       "      <td>-0.166225</td>\n",
       "      <td>-0.257446</td>\n",
       "      <td>0.142368</td>\n",
       "      <td>-0.256127</td>\n",
       "      <td>0.156735</td>\n",
       "      <td>0.398021</td>\n",
       "      <td>0.280994</td>\n",
       "      <td>0.181908</td>\n",
       "      <td>1.000000</td>\n",
       "    </tr>\n",
       "  </tbody>\n",
       "</table>\n",
       "</div>"
      ],
      "text/plain": [
       "                 ambient   coolant       u_d       u_q  motor_speed    torque  \\\n",
       "ambient         1.000000  0.434435  0.194754  0.087430     0.078283 -0.262264   \n",
       "coolant         0.434435  1.000000  0.178708  0.027851    -0.033332 -0.189617   \n",
       "u_d             0.194754  0.178708  1.000000 -0.027472    -0.233828 -0.821325   \n",
       "u_q             0.087430  0.027851 -0.027472  1.000000     0.716897 -0.037262   \n",
       "motor_speed     0.078283 -0.033332 -0.233828  0.716897     1.000000  0.024517   \n",
       "torque         -0.262264 -0.189617 -0.821325 -0.037262     0.024517  1.000000   \n",
       "i_d             0.005605  0.108489  0.358517 -0.181855    -0.722914 -0.239059   \n",
       "i_q            -0.260562 -0.186060 -0.796586 -0.026348     0.006323  0.996560   \n",
       "pm              0.501496  0.430548 -0.082564  0.101236     0.332419 -0.072905   \n",
       "stator_yoke     0.451616  0.874037  0.041428  0.106186     0.182564 -0.092207   \n",
       "stator_tooth    0.396742  0.689003 -0.066256  0.149017     0.333909 -0.011055   \n",
       "stator_winding  0.301883  0.509298 -0.150714  0.125445     0.393154  0.080981   \n",
       "profile_id      0.384565  0.499669  0.300771 -0.122260    -0.166225 -0.257446   \n",
       "\n",
       "                     i_d       i_q        pm  stator_yoke  stator_tooth  \\\n",
       "ambient         0.005605 -0.260562  0.501496     0.451616      0.396742   \n",
       "coolant         0.108489 -0.186060  0.430548     0.874037      0.689003   \n",
       "u_d             0.358517 -0.796586 -0.082564     0.041428     -0.066256   \n",
       "u_q            -0.181855 -0.026348  0.101236     0.106186      0.149017   \n",
       "motor_speed    -0.722914  0.006323  0.332419     0.182564      0.333909   \n",
       "torque         -0.239059  0.996560 -0.072905    -0.092207     -0.011055   \n",
       "i_d             1.000000 -0.204230 -0.299227    -0.179903     -0.387712   \n",
       "i_q            -0.204230  1.000000 -0.086486    -0.098753     -0.025191   \n",
       "pm             -0.299227 -0.086486  1.000000     0.695014      0.768352   \n",
       "stator_yoke    -0.179903 -0.098753  0.695014     1.000000      0.949898   \n",
       "stator_tooth   -0.387712 -0.025191  0.768352     0.949898      1.000000   \n",
       "stator_winding -0.539924  0.060949  0.729561     0.845144      0.965633   \n",
       "profile_id      0.142368 -0.256127  0.156735     0.398021      0.280994   \n",
       "\n",
       "                stator_winding  profile_id  \n",
       "ambient               0.301883    0.384565  \n",
       "coolant               0.509298    0.499669  \n",
       "u_d                  -0.150714    0.300771  \n",
       "u_q                   0.125445   -0.122260  \n",
       "motor_speed           0.393154   -0.166225  \n",
       "torque                0.080981   -0.257446  \n",
       "i_d                  -0.539924    0.142368  \n",
       "i_q                   0.060949   -0.256127  \n",
       "pm                    0.729561    0.156735  \n",
       "stator_yoke           0.845144    0.398021  \n",
       "stator_tooth          0.965633    0.280994  \n",
       "stator_winding        1.000000    0.181908  \n",
       "profile_id            0.181908    1.000000  "
      ]
     },
     "execution_count": 3,
     "metadata": {},
     "output_type": "execute_result"
    }
   ],
   "source": [
    "# Use pandas .corr function to check the correlations between features to find which ones make good predictors\n",
    "data.corr()"
   ]
  },
  {
   "cell_type": "code",
   "execution_count": 4,
   "metadata": {},
   "outputs": [],
   "source": [
    "# Select x and y variables based on the previous step\n",
    "\n",
    "x=data[['coolant', 'stator_tooth', 'stator_winding']]\n",
    "y=data['stator_yoke']"
   ]
  },
  {
   "cell_type": "code",
   "execution_count": 5,
   "metadata": {},
   "outputs": [],
   "source": [
    "# Split data into training and testing sets\n",
    "\n",
    "from sklearn.model_selection import train_test_split\n",
    "\n",
    "x_train, x_test, y_train, y_test = train_test_split(x, y, test_size=0.2)"
   ]
  },
  {
   "cell_type": "code",
   "execution_count": 6,
   "metadata": {},
   "outputs": [
    {
     "data": {
      "text/html": [
       "<div>\n",
       "<style scoped>\n",
       "    .dataframe tbody tr th:only-of-type {\n",
       "        vertical-align: middle;\n",
       "    }\n",
       "\n",
       "    .dataframe tbody tr th {\n",
       "        vertical-align: top;\n",
       "    }\n",
       "\n",
       "    .dataframe thead th {\n",
       "        text-align: right;\n",
       "    }\n",
       "</style>\n",
       "<table border=\"1\" class=\"dataframe\">\n",
       "  <thead>\n",
       "    <tr style=\"text-align: right;\">\n",
       "      <th></th>\n",
       "      <th>count</th>\n",
       "      <th>mean</th>\n",
       "      <th>std</th>\n",
       "      <th>min</th>\n",
       "      <th>25%</th>\n",
       "      <th>50%</th>\n",
       "      <th>75%</th>\n",
       "      <th>max</th>\n",
       "    </tr>\n",
       "  </thead>\n",
       "  <tbody>\n",
       "    <tr>\n",
       "      <th>coolant</th>\n",
       "      <td>798456.0</td>\n",
       "      <td>0.003897</td>\n",
       "      <td>1.001926</td>\n",
       "      <td>-1.367800</td>\n",
       "      <td>-1.037831</td>\n",
       "      <td>-0.178616</td>\n",
       "      <td>0.628618</td>\n",
       "      <td>2.451653</td>\n",
       "    </tr>\n",
       "    <tr>\n",
       "      <th>stator_tooth</th>\n",
       "      <td>798456.0</td>\n",
       "      <td>-0.002673</td>\n",
       "      <td>0.999466</td>\n",
       "      <td>-2.066143</td>\n",
       "      <td>-0.761951</td>\n",
       "      <td>0.004557</td>\n",
       "      <td>0.771817</td>\n",
       "      <td>2.326668</td>\n",
       "    </tr>\n",
       "    <tr>\n",
       "      <th>stator_winding</th>\n",
       "      <td>798456.0</td>\n",
       "      <td>-0.004285</td>\n",
       "      <td>0.998148</td>\n",
       "      <td>-2.019973</td>\n",
       "      <td>-0.725642</td>\n",
       "      <td>0.006146</td>\n",
       "      <td>0.724973</td>\n",
       "      <td>2.653781</td>\n",
       "    </tr>\n",
       "  </tbody>\n",
       "</table>\n",
       "</div>"
      ],
      "text/plain": [
       "                   count      mean       std       min       25%       50%  \\\n",
       "coolant         798456.0  0.003897  1.001926 -1.367800 -1.037831 -0.178616   \n",
       "stator_tooth    798456.0 -0.002673  0.999466 -2.066143 -0.761951  0.004557   \n",
       "stator_winding  798456.0 -0.004285  0.998148 -2.019973 -0.725642  0.006146   \n",
       "\n",
       "                     75%       max  \n",
       "coolant         0.628618  2.451653  \n",
       "stator_tooth    0.771817  2.326668  \n",
       "stator_winding  0.724973  2.653781  "
      ]
     },
     "execution_count": 6,
     "metadata": {},
     "output_type": "execute_result"
    }
   ],
   "source": [
    "# Check feature statistics to see if they need to be normalized\n",
    "\n",
    "train_stats = x_train.describe()\n",
    "train_stats = train_stats.transpose()\n",
    "train_stats"
   ]
  },
  {
   "cell_type": "code",
   "execution_count": 7,
   "metadata": {},
   "outputs": [],
   "source": [
    "# Normalize data\n",
    "\n",
    "def norm(x):\n",
    "  return (x - train_stats['mean']) / train_stats['std']\n",
    "normed_train = norm(x_train)\n",
    "normed_test = norm(x_test)"
   ]
  },
  {
   "cell_type": "markdown",
   "metadata": {},
   "source": [
    "### Model"
   ]
  },
  {
   "cell_type": "code",
   "execution_count": 21,
   "metadata": {},
   "outputs": [],
   "source": [
    "# Import Keras \n",
    "\n",
    "from keras.models import Sequential\n",
    "from keras.layers import Dense, Dropout, Activation\n",
    "from keras import optimizers\n",
    "from keras import layers\n",
    "\n",
    "# Build sequential model\n",
    "model = Sequential()\n",
    "model.add(Dense(128, input_dim=3, activation='relu'))\n",
    "model.add(Dropout(0.1))\n",
    "model.add(Dense(128, activation='relu'))\n",
    "model.add(Dropout(0.1))\n",
    "model.add(Dense(128, activation='relu'))\n",
    "model.add(Dense(1))\n",
    "\n",
    "# choose optimizer and learning rate\n",
    "opt = optimizers.nadam(lr=.00001)\n",
    "\n",
    "# Compile model\n",
    "model.compile(loss='mse',\n",
    "              optimizer=opt,\n",
    "              metrics=['mae'])\n"
   ]
  },
  {
   "cell_type": "code",
   "execution_count": 22,
   "metadata": {},
   "outputs": [
    {
     "name": "stdout",
     "output_type": "stream",
     "text": [
      "Epoch 1/5\n",
      "798456/798456 [==============================] - 32s 40us/step - loss: 0.0759 - mean_absolute_error: 0.1558\n",
      "Epoch 2/5\n",
      "798456/798456 [==============================] - 31s 39us/step - loss: 0.0093 - mean_absolute_error: 0.0715\n",
      "Epoch 3/5\n",
      "798456/798456 [==============================] - 31s 39us/step - loss: 0.0066 - mean_absolute_error: 0.0613\n",
      "Epoch 4/5\n",
      "798456/798456 [==============================] - 31s 39us/step - loss: 0.0057 - mean_absolute_error: 0.0571\n",
      "Epoch 5/5\n",
      "798456/798456 [==============================] - 31s 39us/step - loss: 0.0052 - mean_absolute_error: 0.0545\n"
     ]
    },
    {
     "data": {
      "text/plain": [
       "<keras.callbacks.History at 0x12951ebe0>"
      ]
     },
     "execution_count": 22,
     "metadata": {},
     "output_type": "execute_result"
    }
   ],
   "source": [
    "# Fit model to normalized data\n",
    "model.fit(normed_train, y_train,\n",
    "          epochs=5,\n",
    "          batch_size=128)"
   ]
  },
  {
   "cell_type": "code",
   "execution_count": 23,
   "metadata": {},
   "outputs": [
    {
     "data": {
      "image/png": "[encoded data removed]",
      "text/plain": [
       "<Figure size 432x288 with 1 Axes>"
      ]
     },
     "metadata": {
      "needs_background": "light"
     },
     "output_type": "display_data"
    }
   ],
   "source": [
    "# Import matplot lib for visualization\n",
    "import matplotlib.pyplot as plt\n",
    "%matplotlib inline\n",
    "\n",
    "# use model to make predictions on testing set\n",
    "test_predictions = model.predict(x_test).flatten()\n",
    "\n",
    "# Plot fidnings\n",
    "plt.scatter(y_test, test_predictions)\n",
    "plt.xlabel('True Values ')\n",
    "plt.ylabel('Predictions ')\n",
    "plt.axis('equal')\n",
    "plt.axis('square')\n",
    "plt.xlim([0,plt.xlim()[1]])\n",
    "plt.ylim([0,plt.ylim()[1]])\n",
    "_ = plt.plot([-100, 100], [-100, 100])"
   ]
  },
  {
   "cell_type": "code",
   "execution_count": 24,
   "metadata": {},
   "outputs": [
    {
     "data": {
      "image/png": "[encoded data removed]",
      "text/plain": [
       "<Figure size 432x288 with 1 Axes>"
      ]
     },
     "metadata": {
      "needs_background": "light"
     },
     "output_type": "display_data"
    }
   ],
   "source": [
    "# Check error distribution\n",
    "error = test_predictions - y_test\n",
    "plt.hist(error, bins = 25)\n",
    "plt.xlabel(\"Prediction Error\")\n",
    "_ = plt.ylabel(\"Count\")"
   ]
  },
  {
   "cell_type": "code",
   "execution_count": 25,
   "metadata": {},
   "outputs": [],
   "source": [
    "# Save model\n",
    "from keras.models import load_model\n",
    "\n",
    "model.save('Motor_Temperature.h5')  "
   ]
  },
  {
   "cell_type": "markdown",
   "metadata": {},
   "source": [
    "Over all this model worked fairly well to predict the motor temperature. It took a couple of different tries to pick the x and y variables as I originally was trying to predict 'pm' using the stator variables but it did not work very well. "
   ]
  },
  {
   "cell_type": "code",
   "execution_count": null,
   "metadata": {},
   "outputs": [],
   "source": []
  }
 ],
 "metadata": {
  "kernelspec": {
   "display_name": "Python 3",
   "language": "python",
   "name": "python3"
  },
  "language_info": {
   "codemirror_mode": {
    "name": "ipython",
    "version": 3
   },
   "file_extension": ".py",
   "mimetype": "text/x-python",
   "name": "python",
   "nbconvert_exporter": "python",
   "pygments_lexer": "ipython3",
   "version": "3.7.3"
  }
 },
 "nbformat": 4,
 "nbformat_minor": 2
}
