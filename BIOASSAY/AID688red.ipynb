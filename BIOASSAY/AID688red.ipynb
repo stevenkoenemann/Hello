{
 "cells": [
  {
   "cell_type": "code",
   "execution_count": 1,
   "metadata": {},
   "outputs": [],
   "source": [
    "# using plaidml to connect to my eGPU\n",
    "import os\n",
    "\n",
    "os.environ[\"KERAS_BACKEND\"] = \"plaidml.keras.backend\""
   ]
  },
  {
   "cell_type": "code",
   "execution_count": 2,
   "metadata": {},
   "outputs": [],
   "source": [
    "# read csv file into a pandas dataframe\n",
    "import numpy as np\n",
    "import pandas as pd\n",
    "\n",
    "train = pd.read_csv('AID688red_train.csv')\n",
    "test = pd.read_csv('AID688red_test.csv')"
   ]
  },
  {
   "cell_type": "code",
   "execution_count": 3,
   "metadata": {},
   "outputs": [
    {
     "name": "stderr",
     "output_type": "stream",
     "text": [
      "/anaconda3/lib/python3.7/site-packages/sklearn/ensemble/forest.py:246: FutureWarning: The default value of n_estimators will change from 10 in version 0.20 to 100 in 0.22.\n",
      "  \"10 in version 0.20 to 100 in 0.22.\", FutureWarning)\n"
     ]
    },
    {
     "data": {
      "image/png": "[encoded data removed]",
      "text/plain": [
       "<Figure size 432x288 with 1 Axes>"
      ]
     },
     "metadata": {
      "needs_background": "light"
     },
     "output_type": "display_data"
    }
   ],
   "source": [
    "# Function for converting categorical label into a numerical one\n",
    "def outcome_to_numeric(x):\n",
    "    if x=='Inactive':\n",
    "        return 0\n",
    "    if x=='Active':\n",
    "        return 1\n",
    "    \n",
    "# Apply function to label column\n",
    "train['label'] = train['Outcome'].apply(outcome_to_numeric)\n",
    "test['label'] = test['Outcome'].apply(outcome_to_numeric)\n",
    "\n",
    "# Drop categorical column\n",
    "train=train.drop('Outcome', axis=1)\n",
    "test=test.drop('Outcome', axis=1)\n",
    "\n",
    "# Split datasets into feature and label dataframes\n",
    "x_train = train.drop('label', axis=1)\n",
    "y_train = train['label']\n",
    "\n",
    "x_test = test.drop('label', axis=1)\n",
    "y_test = test['label']\n",
    "\n",
    "from sklearn.ensemble import ExtraTreesClassifier\n",
    "import matplotlib.pyplot as plt\n",
    "%matplotlib inline\n",
    "\n",
    "# Select best features for the label\n",
    "model = ExtraTreesClassifier()\n",
    "model.fit(x_train, y_train)\n",
    "\n",
    "feat_importances = pd.Series(model.feature_importances_, index=x_train.columns)\n",
    "feat_importances.nlargest(5).plot(kind='barh')\n",
    "plt.show()"
   ]
  },
  {
   "cell_type": "code",
   "execution_count": 4,
   "metadata": {},
   "outputs": [],
   "source": [
    "# Create dataframe with olny the best features\n",
    "x_train = x_train[['PSA', 'XLogP', 'WBN_LP_H_0.50', 'WBN_EN_H_0.50', 'WBN_EN_H_1.00']]\n",
    "\n",
    "x_test = x_test[['PSA', 'XLogP', 'WBN_LP_H_0.50', 'WBN_EN_H_0.50', 'WBN_EN_H_1.00']]"
   ]
  },
  {
   "cell_type": "code",
   "execution_count": 5,
   "metadata": {},
   "outputs": [
    {
     "name": "stderr",
     "output_type": "stream",
     "text": [
      "Using plaidml.keras.backend backend.\n",
      "INFO:plaidml:Opening device \"metal_amd_radeon_rx_580.0\"\n"
     ]
    }
   ],
   "source": [
    "from keras.models import Sequential\n",
    "from keras.layers import Dense, Dropout, Activation\n",
    "from keras import optimizers\n",
    "from keras import layers\n",
    "\n",
    "\n",
    "model = Sequential()\n",
    "model.add(Dense(64, input_dim=5, activation='relu'))\n",
    "model.add(Dropout(0.2))\n",
    "model.add(Dense(64, activation='relu'))\n",
    "model.add(Dropout(0.2))\n",
    "model.add(Dense(64, activation='relu'))\n",
    "model.add(Dense(1, activation='sigmoid'))\n",
    "\n",
    "opt = optimizers.nadam(lr=.001)\n",
    "\n",
    "model.compile(loss='binary_crossentropy',\n",
    "              optimizer=opt,\n",
    "              metrics=['accuracy'])"
   ]
  },
  {
   "cell_type": "code",
   "execution_count": 6,
   "metadata": {},
   "outputs": [
    {
     "name": "stdout",
     "output_type": "stream",
     "text": [
      "Epoch 1/10\n",
      "21751/21751 [==============================] - 2s 94us/step - loss: 0.3445 - acc: 0.9528\n",
      "Epoch 2/10\n",
      "21751/21751 [==============================] - 1s 43us/step - loss: 0.0840 - acc: 0.9895\n",
      "Epoch 3/10\n",
      "21751/21751 [==============================] - 1s 43us/step - loss: 0.0709 - acc: 0.9898\n",
      "Epoch 4/10\n",
      "21751/21751 [==============================] - 1s 42us/step - loss: 0.0660 - acc: 0.9903\n",
      "Epoch 5/10\n",
      "21751/21751 [==============================] - 1s 40us/step - loss: 0.0632 - acc: 0.9908\n",
      "Epoch 6/10\n",
      "21751/21751 [==============================] - 1s 45us/step - loss: 0.0599 - acc: 0.9907\n",
      "Epoch 7/10\n",
      "21751/21751 [==============================] - 1s 46us/step - loss: 0.0601 - acc: 0.9909\n",
      "Epoch 8/10\n",
      "21751/21751 [==============================] - 1s 43us/step - loss: 0.0598 - acc: 0.9909\n",
      "Epoch 9/10\n",
      "21751/21751 [==============================] - 1s 41us/step - loss: 0.0585 - acc: 0.9909\n",
      "Epoch 10/10\n",
      "21751/21751 [==============================] - 1s 40us/step - loss: 0.0575 - acc: 0.9909\n"
     ]
    },
    {
     "data": {
      "text/plain": [
       "<keras.callbacks.History at 0x11fc56be0>"
      ]
     },
     "execution_count": 6,
     "metadata": {},
     "output_type": "execute_result"
    }
   ],
   "source": [
    "model.fit(x_train, y_train,\n",
    "          epochs=10,\n",
    "          batch_size=128)"
   ]
  },
  {
   "cell_type": "code",
   "execution_count": 7,
   "metadata": {},
   "outputs": [
    {
     "name": "stdout",
     "output_type": "stream",
     "text": [
      "5438/5438 [==============================] - 0s 72us/step\n",
      "Score [0.057381231410400795, 0.9908054431118742]\n"
     ]
    }
   ],
   "source": [
    "score = model.evaluate(x_test, y_test, batch_size=128)\n",
    "print('Score', score)"
   ]
  },
  {
   "cell_type": "code",
   "execution_count": null,
   "metadata": {},
   "outputs": [],
   "source": []
  }
 ],
 "metadata": {
  "kernelspec": {
   "display_name": "Python 3",
   "language": "python",
   "name": "python3"
  },
  "language_info": {
   "codemirror_mode": {
    "name": "ipython",
    "version": 3
   },
   "file_extension": ".py",
   "mimetype": "text/x-python",
   "name": "python",
   "nbconvert_exporter": "python",
   "pygments_lexer": "ipython3",
   "version": "3.7.3"
  }
 },
 "nbformat": 4,
 "nbformat_minor": 2
}
